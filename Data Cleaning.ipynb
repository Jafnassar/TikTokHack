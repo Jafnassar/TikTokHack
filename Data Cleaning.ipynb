{
 "cells": [
  {
   "cell_type": "markdown",
   "metadata": {},
   "source": [
    "# Google Maps Restaurant Reviews Data Cleaning\n",
    "\n",
    "This notebook contains data cleaning operations for the restaurant reviews dataset."
   ]
  },
  {
   "cell_type": "code",
   "execution_count": 3,
   "metadata": {},
   "outputs": [
    {
     "ename": "ModuleNotFoundError",
     "evalue": "No module named 'pandas'",
     "output_type": "error",
     "traceback": [
      "\u001b[31m---------------------------------------------------------------------------\u001b[39m",
      "\u001b[31mModuleNotFoundError\u001b[39m                       Traceback (most recent call last)",
      "\u001b[36mCell\u001b[39m\u001b[36m \u001b[39m\u001b[32mIn[3]\u001b[39m\u001b[32m, line 1\u001b[39m\n\u001b[32m----> \u001b[39m\u001b[32m1\u001b[39m \u001b[38;5;28;01mimport\u001b[39;00m\u001b[38;5;250m \u001b[39m\u001b[34;01mpandas\u001b[39;00m\u001b[38;5;250m \u001b[39m\u001b[38;5;28;01mas\u001b[39;00m\u001b[38;5;250m \u001b[39m\u001b[34;01mpd\u001b[39;00m\n\u001b[32m      2\u001b[39m \u001b[38;5;28;01mimport\u001b[39;00m\u001b[38;5;250m \u001b[39m\u001b[34;01mnumpy\u001b[39;00m\u001b[38;5;250m \u001b[39m\u001b[38;5;28;01mas\u001b[39;00m\u001b[38;5;250m \u001b[39m\u001b[34;01mnp\u001b[39;00m\n\u001b[32m      3\u001b[39m \u001b[38;5;28;01mimport\u001b[39;00m\u001b[38;5;250m \u001b[39m\u001b[34;01mre\u001b[39;00m\n",
      "\u001b[31mModuleNotFoundError\u001b[39m: No module named 'pandas'"
     ]
    }
   ],
   "source": [
    "import pandas as pd\n",
    "import numpy as np\n",
    "import re\n",
    "import matplotlib.pyplot as plt\n",
    "import seaborn as sns\n",
    "from collections import Counter\n",
    "import warnings\n",
    "warnings.filterwarnings('ignore')"
   ]
  },
  {
   "cell_type": "markdown",
   "metadata": {},
   "source": [
    "## 1. Load and Inspect Data"
   ]
  },
  {
   "cell_type": "code",
   "execution_count": null,
   "metadata": {},
   "outputs": [
    {
     "name": "stdout",
     "output_type": "stream",
     "text": [
      "Dataset Shape: (1100, 6)\n",
      "\n",
      "Column Names:\n",
      "['business_name', 'author_name', 'text', 'photo', 'rating', 'rating_category']\n",
      "\n",
      "First few rows:\n"
     ]
    },
    {
     "data": {
      "text/html": [
       "<div>\n",
       "<style scoped>\n",
       "    .dataframe tbody tr th:only-of-type {\n",
       "        vertical-align: middle;\n",
       "    }\n",
       "\n",
       "    .dataframe tbody tr th {\n",
       "        vertical-align: top;\n",
       "    }\n",
       "\n",
       "    .dataframe thead th {\n",
       "        text-align: right;\n",
       "    }\n",
       "</style>\n",
       "<table border=\"1\" class=\"dataframe\">\n",
       "  <thead>\n",
       "    <tr style=\"text-align: right;\">\n",
       "      <th></th>\n",
       "      <th>business_name</th>\n",
       "      <th>author_name</th>\n",
       "      <th>text</th>\n",
       "      <th>photo</th>\n",
       "      <th>rating</th>\n",
       "      <th>rating_category</th>\n",
       "    </tr>\n",
       "  </thead>\n",
       "  <tbody>\n",
       "    <tr>\n",
       "      <th>0</th>\n",
       "      <td>Haci'nin Yeri - Yigit Lokantasi</td>\n",
       "      <td>Gulsum Akar</td>\n",
       "      <td>We went to Marmaris with my wife for a holiday...</td>\n",
       "      <td>dataset/taste/hacinin_yeri_gulsum_akar.png</td>\n",
       "      <td>5</td>\n",
       "      <td>taste</td>\n",
       "    </tr>\n",
       "    <tr>\n",
       "      <th>1</th>\n",
       "      <td>Haci'nin Yeri - Yigit Lokantasi</td>\n",
       "      <td>Oguzhan Cetin</td>\n",
       "      <td>During my holiday in Marmaris we ate here to f...</td>\n",
       "      <td>dataset/menu/hacinin_yeri_oguzhan_cetin.png</td>\n",
       "      <td>4</td>\n",
       "      <td>menu</td>\n",
       "    </tr>\n",
       "    <tr>\n",
       "      <th>2</th>\n",
       "      <td>Haci'nin Yeri - Yigit Lokantasi</td>\n",
       "      <td>Yasin Kuyu</td>\n",
       "      <td>Prices are very affordable. The menu in the ph...</td>\n",
       "      <td>dataset/outdoor_atmosphere/hacinin_yeri_yasin_...</td>\n",
       "      <td>3</td>\n",
       "      <td>outdoor_atmosphere</td>\n",
       "    </tr>\n",
       "    <tr>\n",
       "      <th>3</th>\n",
       "      <td>Haci'nin Yeri - Yigit Lokantasi</td>\n",
       "      <td>Orhan Kapu</td>\n",
       "      <td>Turkey's cheapest artisan restaurant and its f...</td>\n",
       "      <td>dataset/indoor_atmosphere/hacinin_yeri_orhan_k...</td>\n",
       "      <td>5</td>\n",
       "      <td>indoor_atmosphere</td>\n",
       "    </tr>\n",
       "    <tr>\n",
       "      <th>4</th>\n",
       "      <td>Haci'nin Yeri - Yigit Lokantasi</td>\n",
       "      <td>Ozgur Sati</td>\n",
       "      <td>I don't know what you will look for in terms o...</td>\n",
       "      <td>dataset/menu/hacinin_yeri_ozgur_sati.png</td>\n",
       "      <td>3</td>\n",
       "      <td>menu</td>\n",
       "    </tr>\n",
       "  </tbody>\n",
       "</table>\n",
       "</div>"
      ],
      "text/plain": [
       "                     business_name    author_name  \\\n",
       "0  Haci'nin Yeri - Yigit Lokantasi    Gulsum Akar   \n",
       "1  Haci'nin Yeri - Yigit Lokantasi  Oguzhan Cetin   \n",
       "2  Haci'nin Yeri - Yigit Lokantasi     Yasin Kuyu   \n",
       "3  Haci'nin Yeri - Yigit Lokantasi     Orhan Kapu   \n",
       "4  Haci'nin Yeri - Yigit Lokantasi     Ozgur Sati   \n",
       "\n",
       "                                                text  \\\n",
       "0  We went to Marmaris with my wife for a holiday...   \n",
       "1  During my holiday in Marmaris we ate here to f...   \n",
       "2  Prices are very affordable. The menu in the ph...   \n",
       "3  Turkey's cheapest artisan restaurant and its f...   \n",
       "4  I don't know what you will look for in terms o...   \n",
       "\n",
       "                                               photo  rating  \\\n",
       "0         dataset/taste/hacinin_yeri_gulsum_akar.png       5   \n",
       "1        dataset/menu/hacinin_yeri_oguzhan_cetin.png       4   \n",
       "2  dataset/outdoor_atmosphere/hacinin_yeri_yasin_...       3   \n",
       "3  dataset/indoor_atmosphere/hacinin_yeri_orhan_k...       5   \n",
       "4           dataset/menu/hacinin_yeri_ozgur_sati.png       3   \n",
       "\n",
       "      rating_category  \n",
       "0               taste  \n",
       "1                menu  \n",
       "2  outdoor_atmosphere  \n",
       "3   indoor_atmosphere  \n",
       "4                menu  "
      ]
     },
     "execution_count": 40,
     "metadata": {},
     "output_type": "execute_result"
    }
   ],
   "source": [
    "# Load the dataset\n",
    "df = pd.read_csv('data/reviews.csv')\n",
    "\n",
    "# Display basic information\n",
    "print(\"Dataset Shape:\", df.shape)\n",
    "print(\"\\nColumn Names:\")\n",
    "print(df.columns.tolist())\n",
    "print(\"\\nFirst few rows:\")\n",
    "df.head()"
   ]
  },
  {
   "cell_type": "code",
   "execution_count": null,
   "metadata": {},
   "outputs": [
    {
     "name": "stdout",
     "output_type": "stream",
     "text": [
      "Data Types:\n",
      "business_name      object\n",
      "author_name        object\n",
      "text               object\n",
      "photo              object\n",
      "rating              int64\n",
      "rating_category    object\n",
      "dtype: object\n",
      "\n",
      "Missing Values:\n",
      "business_name      0\n",
      "author_name        0\n",
      "text               0\n",
      "photo              0\n",
      "rating             0\n",
      "rating_category    0\n",
      "dtype: int64\n",
      "\n",
      "Missing Values Percentage:\n",
      "business_name      0.0\n",
      "author_name        0.0\n",
      "text               0.0\n",
      "photo              0.0\n",
      "rating             0.0\n",
      "rating_category    0.0\n",
      "dtype: float64\n"
     ]
    }
   ],
   "source": [
    "# Data types and missing values\n",
    "print(\"Data Types:\")\n",
    "print(df.dtypes)\n",
    "print(\"\\nMissing Values:\")\n",
    "print(df.isnull().sum())\n",
    "print(\"\\nMissing Values Percentage:\")\n",
    "print((df.isnull().sum() / len(df)) * 100)"
   ]
  },
  {
   "cell_type": "markdown",
   "metadata": {},
   "source": [
    "## 2. Data Quality Assessment"
   ]
  },
  {
   "cell_type": "code",
   "execution_count": null,
   "metadata": {},
   "outputs": [
    {
     "name": "stdout",
     "output_type": "stream",
     "text": [
      "Duplicate rows: 0\n",
      "Potential duplicate reviews by same author: 0\n"
     ]
    }
   ],
   "source": [
    "# Check for duplicates\n",
    "print(\"Duplicate rows:\", df.duplicated().sum())\n",
    "\n",
    "# Check for duplicate reviews by same author for same business\n",
    "duplicate_reviews = df.duplicated(subset=['business_name', 'author_name'], keep=False)\n",
    "print(\"Potential duplicate reviews by same author:\", duplicate_reviews.sum())\n",
    "\n",
    "if duplicate_reviews.sum() > 0:\n",
    "    print(\"\\nDuplicate review examples:\")\n",
    "    print(df[duplicate_reviews][['business_name', 'author_name', 'rating']].head(10))"
   ]
  },
  {
   "cell_type": "code",
   "execution_count": null,
   "metadata": {},
   "outputs": [
    {
     "name": "stdout",
     "output_type": "stream",
     "text": [
      "Unique rating values: [np.int64(1), np.int64(2), np.int64(3), np.int64(4), np.int64(5)]\n",
      "Rating value counts:\n",
      "rating\n",
      "1     80\n",
      "2     72\n",
      "3    172\n",
      "4    316\n",
      "5    460\n",
      "Name: count, dtype: int64\n",
      "\n",
      "Invalid ratings (not 1-5): 0\n"
     ]
    }
   ],
   "source": [
    "# Validate rating values\n",
    "print(\"Unique rating values:\", sorted(df['rating'].unique()))\n",
    "print(\"Rating value counts:\")\n",
    "print(df['rating'].value_counts().sort_index())\n",
    "\n",
    "# Check for invalid ratings (should be 1-5)\n",
    "invalid_ratings = df[(df['rating'] < 1) | (df['rating'] > 5)]\n",
    "print(f\"\\nInvalid ratings (not 1-5): {len(invalid_ratings)}\")"
   ]
  },
  {
   "cell_type": "code",
   "execution_count": null,
   "metadata": {},
   "outputs": [
    {
     "name": "stdout",
     "output_type": "stream",
     "text": [
      "Unique rating categories:\n",
      "rating_category\n",
      "taste                 330\n",
      "indoor_atmosphere     288\n",
      "outdoor_atmosphere    286\n",
      "menu                  196\n",
      "Name: count, dtype: int64\n",
      "\n",
      "Unexpected rating categories: 0\n"
     ]
    }
   ],
   "source": [
    "# Validate rating categories\n",
    "print(\"Unique rating categories:\")\n",
    "print(df['rating_category'].value_counts())\n",
    "\n",
    "# Check for any unexpected categories\n",
    "expected_categories = ['taste', 'indoor_atmosphere', 'outdoor_atmosphere', 'menu']\n",
    "unexpected_categories = df[~df['rating_category'].isin(expected_categories)]\n",
    "print(f\"\\nUnexpected rating categories: {len(unexpected_categories)}\")\n",
    "if len(unexpected_categories) > 0:\n",
    "    print(unexpected_categories['rating_category'].unique())"
   ]
  },
  {
   "cell_type": "markdown",
   "metadata": {},
   "source": [
    "## 3. Text Data Cleaning"
   ]
  },
  {
   "cell_type": "code",
   "execution_count": null,
   "metadata": {},
   "outputs": [
    {
     "name": "stdout",
     "output_type": "stream",
     "text": [
      "Unique businesses before cleaning: 100\n",
      "Sample business names:\n",
      "business_name\n",
      "Haci'nin Yeri - Yigit Lokantasi    11\n",
      "Pizza Fellas                       11\n",
      "Cafe Inn                           11\n",
      "Riviera                            11\n",
      "Sakip Usta Gaziantep               11\n",
      "Imam Cagdas                        11\n",
      "Gold Semaver                       11\n",
      "Fethiye Dondurmacisi               11\n",
      "My Friends Burger                  11\n",
      "Mcdonalds Fethiye                  11\n",
      "Name: count, dtype: int64\n",
      "\n",
      "Unique businesses after cleaning: 100\n"
     ]
    }
   ],
   "source": [
    "# Clean business names\n",
    "print(\"Unique businesses before cleaning:\", df['business_name'].nunique())\n",
    "print(\"Sample business names:\")\n",
    "print(df['business_name'].value_counts().head(10))\n",
    "\n",
    "# Function to clean business names\n",
    "def clean_business_name(name):\n",
    "    if pd.isna(name):\n",
    "        return name\n",
    "    # Remove extra whitespace\n",
    "    name = ' '.join(name.split())\n",
    "    # Standardize common variations\n",
    "    name = name.replace('&', 'and')\n",
    "    return name.strip()\n",
    "\n",
    "df['business_name_cleaned'] = df['business_name'].apply(clean_business_name)\n",
    "print(f\"\\nUnique businesses after cleaning: {df['business_name_cleaned'].nunique()}\")"
   ]
  },
  {
   "cell_type": "code",
   "execution_count": null,
   "metadata": {},
   "outputs": [
    {
     "name": "stdout",
     "output_type": "stream",
     "text": [
      "Sample author names:\n",
      "author_name\n",
      "Ece Oztunc          3\n",
      "Mustafa Ay          3\n",
      "Nihat Karabiber     3\n",
      "Saliha Senyildiz    3\n",
      "Mevlut Sahin        2\n",
      "Halit Kerim         2\n",
      "Gun Oksay           2\n",
      "Enes Ozturk         2\n",
      "Nafican Tatlici     2\n",
      "Selcuk Uras         2\n",
      "Name: count, dtype: int64\n"
     ]
    }
   ],
   "source": [
    "# Clean author names\n",
    "print(\"Sample author names:\")\n",
    "print(df['author_name'].value_counts().head(10))\n",
    "\n",
    "# Function to clean author names\n",
    "def clean_author_name(name):\n",
    "    if pd.isna(name):\n",
    "        return name\n",
    "    # Remove extra whitespace\n",
    "    name = ' '.join(name.split())\n",
    "    # Capitalize properly\n",
    "    name = name.title()\n",
    "    return name.strip()\n",
    "\n",
    "df['author_name_cleaned'] = df['author_name'].apply(clean_author_name)"
   ]
  },
  {
   "cell_type": "code",
   "execution_count": null,
   "metadata": {},
   "outputs": [
    {
     "name": "stdout",
     "output_type": "stream",
     "text": [
      "Text length statistics:\n",
      "count    1100.000000\n",
      "mean      110.797273\n",
      "std        69.134845\n",
      "min         5.000000\n",
      "25%        62.000000\n",
      "50%       104.000000\n",
      "75%       147.000000\n",
      "max       913.000000\n",
      "Name: text_length, dtype: float64\n"
     ]
    }
   ],
   "source": [
    "# Clean review text\n",
    "def clean_review_text(text):\n",
    "    if pd.isna(text):\n",
    "        return text\n",
    "    \n",
    "    # Remove extra whitespace\n",
    "    text = ' '.join(text.split())\n",
    "    \n",
    "    # Remove multiple periods/ellipses at the end\n",
    "    text = re.sub(r'\\.+$', '.', text)\n",
    "    \n",
    "    # Fix common punctuation issues\n",
    "    text = re.sub(r'\\s+([,.!?;:])', r'\\1', text)  # Remove space before punctuation\n",
    "    text = re.sub(r'([,.!?;:])([a-zA-Z])', r'\\1 \\2', text)  # Add space after punctuation\n",
    "    \n",
    "    return text.strip()\n",
    "\n",
    "df['text_cleaned'] = df['text'].apply(clean_review_text)\n",
    "\n",
    "# Check text length statistics\n",
    "df['text_length'] = df['text_cleaned'].str.len()\n",
    "print(\"Text length statistics:\")\n",
    "print(df['text_length'].describe())"
   ]
  },
  {
   "cell_type": "markdown",
   "metadata": {},
   "source": [
    "## 4. Photo Path Validation"
   ]
  },
  {
   "cell_type": "code",
   "execution_count": null,
   "metadata": {},
   "outputs": [
    {
     "name": "stdout",
     "output_type": "stream",
     "text": [
      "Sample photo paths:\n",
      "['dataset/taste/hacinin_yeri_gulsum_akar.png', 'dataset/menu/hacinin_yeri_oguzhan_cetin.png', 'dataset/outdoor_atmosphere/hacinin_yeri_yasin_kuyu.png', 'dataset/indoor_atmosphere/hacinin_yeri_orhan_kapu.png', 'dataset/menu/hacinin_yeri_ozgur_sati.png', 'dataset/indoor_atmosphere/hacinin_yeri_arda_karaca.png', 'dataset/taste/hacinin_yeri_irem_eren.png', 'dataset/taste/hacinin_yeri_nadia_salim.png', 'dataset/outdoor_atmosphere/hacinin_yeri_mehmet_eser.png', 'dataset/indoor_atmosphere/hacinin_yeri_celal_ozer.png']\n",
      "\n",
      "Missing photo paths: 0\n",
      "Invalid photo paths: 0\n"
     ]
    }
   ],
   "source": [
    "# Validate photo paths\n",
    "print(\"Sample photo paths:\")\n",
    "print(df['photo'].head(10).tolist())\n",
    "\n",
    "# Check for missing photo paths\n",
    "missing_photos = df['photo'].isnull().sum()\n",
    "print(f\"\\nMissing photo paths: {missing_photos}\")\n",
    "\n",
    "# Validate photo path format\n",
    "def validate_photo_path(path):\n",
    "    if pd.isna(path):\n",
    "        return False\n",
    "    # Check if path follows expected format: dataset/category/filename.png\n",
    "    pattern = r'^dataset/(taste|indoor_atmosphere|outdoor_atmosphere|menu)/[^/]+\\.png$'\n",
    "    return bool(re.match(pattern, path))\n",
    "\n",
    "df['valid_photo_path'] = df['photo'].apply(validate_photo_path)\n",
    "invalid_photo_paths = (~df['valid_photo_path']).sum()\n",
    "print(f\"Invalid photo paths: {invalid_photo_paths}\")\n",
    "\n",
    "if invalid_photo_paths > 0:\n",
    "    print(\"\\nExamples of invalid photo paths:\")\n",
    "    print(df[~df['valid_photo_path']]['photo'].head(5).tolist())"
   ]
  },
  {
   "cell_type": "markdown",
   "metadata": {},
   "source": [
    "## 5. Data Consistency Checks"
   ]
  },
  {
   "cell_type": "code",
   "execution_count": null,
   "metadata": {},
   "outputs": [
    {
     "name": "stdout",
     "output_type": "stream",
     "text": [
      "Photo category mismatches: 0\n"
     ]
    }
   ],
   "source": [
    "# Check if photo path category matches rating_category\n",
    "def extract_photo_category(path):\n",
    "    if pd.isna(path):\n",
    "        return None\n",
    "    match = re.search(r'dataset/([^/]+)/', path)\n",
    "    return match.group(1) if match else None\n",
    "\n",
    "df['photo_category'] = df['photo'].apply(extract_photo_category)\n",
    "\n",
    "# Check for mismatches\n",
    "category_mismatch = df['photo_category'] != df['rating_category']\n",
    "mismatches = df[category_mismatch & df['photo_category'].notna()]\n",
    "print(f\"Photo category mismatches: {len(mismatches)}\")\n",
    "\n",
    "if len(mismatches) > 0:\n",
    "    print(\"\\nExample mismatches:\")\n",
    "    print(mismatches[['business_name', 'rating_category', 'photo_category']].head())"
   ]
  },
  {
   "cell_type": "markdown",
   "metadata": {},
   "source": [
    "## 6. Outlier Detection"
   ]
  },
  {
   "cell_type": "code",
   "execution_count": null,
   "metadata": {},
   "outputs": [
    {
     "ename": "NameError",
     "evalue": "name 'plt' is not defined",
     "output_type": "error",
     "traceback": [
      "\u001b[31m---------------------------------------------------------------------------\u001b[39m",
      "\u001b[31mNameError\u001b[39m                                 Traceback (most recent call last)",
      "\u001b[36mCell\u001b[39m\u001b[36m \u001b[39m\u001b[32mIn[1]\u001b[39m\u001b[32m, line 2\u001b[39m\n\u001b[32m      1\u001b[39m \u001b[38;5;66;03m# Detect extremely short or long reviews\u001b[39;00m\n\u001b[32m----> \u001b[39m\u001b[32m2\u001b[39m \u001b[43mplt\u001b[49m.figure(figsize=(\u001b[32m12\u001b[39m, \u001b[32m4\u001b[39m))\n\u001b[32m      4\u001b[39m plt.subplot(\u001b[32m1\u001b[39m, \u001b[32m2\u001b[39m, \u001b[32m1\u001b[39m)\n\u001b[32m      5\u001b[39m plt.hist(df[\u001b[33m'\u001b[39m\u001b[33mtext_length\u001b[39m\u001b[33m'\u001b[39m], bins=\u001b[32m50\u001b[39m, alpha=\u001b[32m0.7\u001b[39m)\n",
      "\u001b[31mNameError\u001b[39m: name 'plt' is not defined"
     ]
    }
   ],
   "source": [
    "# Detect extremely short or long reviews\n",
    "plt.figure(figsize=(12, 4))\n",
    "\n",
    "plt.subplot(1, 2, 1)\n",
    "plt.hist(df['text_length'], bins=50, alpha=0.7)\n",
    "plt.xlabel('Review Length (characters)')\n",
    "plt.ylabel('Frequency')\n",
    "plt.title('Distribution of Review Lengths')\n",
    "\n",
    "plt.subplot(1, 2, 2)\n",
    "plt.boxplot(df['text_length'])\n",
    "plt.ylabel('Review Length (characters)')\n",
    "plt.title('Review Length Boxplot')\n",
    "\n",
    "plt.tight_layout()\n",
    "plt.show()\n",
    "\n",
    "# Identify outliers\n",
    "Q1 = df['text_length'].quantile(0.25)\n",
    "Q3 = df['text_length'].quantile(0.75)\n",
    "IQR = Q3 - Q1\n",
    "lower_bound = Q1 - 1.5 * IQR\n",
    "upper_bound = Q3 + 1.5 * IQR\n",
    "\n",
    "outliers = df[(df['text_length'] < lower_bound) | (df['text_length'] > upper_bound)]\n",
    "print(f\"\\nText length outliers: {len(outliers)}\")\n",
    "print(f\"Very short reviews (<50 chars): {(df['text_length'] < 10).sum()}\")\n",
    "print(f\"Very long reviews (>1000 chars): {(df['text_length'] > 1000).sum()}\")"
   ]
  },
  {
   "cell_type": "markdown",
   "metadata": {},
   "source": [
    "## 7. Create Clean Dataset"
   ]
  },
  {
   "cell_type": "code",
   "execution_count": null,
   "metadata": {},
   "outputs": [
    {
     "name": "stdout",
     "output_type": "stream",
     "text": [
      "Removed 0 duplicate rows\n",
      "Removed 0 rows with invalid ratings\n",
      "Removed 0 rows with empty review text\n",
      "Removed 13 extremely short reviews\n",
      "\n",
      "Final clean dataset size: 1087 rows\n"
     ]
    }
   ],
   "source": [
    "# Create clean dataset\n",
    "df_clean = df.copy()\n",
    "\n",
    "# Remove exact duplicates\n",
    "df_clean = df_clean.drop_duplicates()\n",
    "print(f\"Removed {len(df) - len(df_clean)} duplicate rows\")\n",
    "\n",
    "# Remove rows with invalid ratings\n",
    "before_count = len(df_clean)\n",
    "df_clean = df_clean[(df_clean['rating'] >= 1) & (df_clean['rating'] <= 5)]\n",
    "print(f\"Removed {before_count - len(df_clean)} rows with invalid ratings\")\n",
    "\n",
    "# Remove rows with empty text\n",
    "before_count = len(df_clean)\n",
    "df_clean = df_clean[df_clean['text_cleaned'].notna() & (df_clean['text_cleaned'].str.strip() != '')]\n",
    "print(f\"Removed {before_count - len(df_clean)} rows with empty review text\")\n",
    "\n",
    "# Remove extremely short reviews (less than 10 characters)\n",
    "before_count = len(df_clean)\n",
    "df_clean = df_clean[df_clean['text_length'] >= 10]\n",
    "print(f\"Removed {before_count - len(df_clean)} extremely short reviews\")\n",
    "\n",
    "print(f\"\\nFinal clean dataset size: {len(df_clean)} rows\")"
   ]
  },
  {
   "cell_type": "code",
   "execution_count": null,
   "metadata": {},
   "outputs": [
    {
     "name": "stdout",
     "output_type": "stream",
     "text": [
      "Final dataset shape: (1087, 7)\n",
      "\n",
      "Final dataset info:\n",
      "<class 'pandas.core.frame.DataFrame'>\n",
      "Index: 1087 entries, 0 to 1099\n",
      "Data columns (total 7 columns):\n",
      " #   Column           Non-Null Count  Dtype \n",
      "---  ------           --------------  ----- \n",
      " 0   business_name    1087 non-null   object\n",
      " 1   author_name      1087 non-null   object\n",
      " 2   text             1087 non-null   object\n",
      " 3   photo            1087 non-null   object\n",
      " 4   rating           1087 non-null   int64 \n",
      " 5   rating_category  1087 non-null   object\n",
      " 6   text_length      1087 non-null   int64 \n",
      "dtypes: int64(2), object(5)\n",
      "memory usage: 67.9+ KB\n",
      "None\n"
     ]
    }
   ],
   "source": [
    "# Select final columns for clean dataset\n",
    "final_columns = [\n",
    "    'business_name_cleaned',\n",
    "    'author_name_cleaned', \n",
    "    'text_cleaned',\n",
    "    'photo',\n",
    "    'rating',\n",
    "    'rating_category',\n",
    "    'text_length'\n",
    "]\n",
    "\n",
    "df_final = df_clean[final_columns].copy()\n",
    "\n",
    "# Rename columns\n",
    "df_final.columns = [\n",
    "    'business_name',\n",
    "    'author_name',\n",
    "    'text',\n",
    "    'photo',\n",
    "    'rating',\n",
    "    'rating_category',\n",
    "    'text_length'\n",
    "]\n",
    "\n",
    "print(\"Final dataset shape:\", df_final.shape)\n",
    "print(\"\\nFinal dataset info:\")\n",
    "print(df_final.info())"
   ]
  },
  {
   "cell_type": "markdown",
   "metadata": {},
   "source": [
    "## 8. Data Summary and Export"
   ]
  },
  {
   "cell_type": "code",
   "execution_count": null,
   "metadata": {},
   "outputs": [
    {
     "name": "stdout",
     "output_type": "stream",
     "text": [
      "=== CLEAN DATASET SUMMARY ===\n",
      "Total reviews: 1087\n",
      "Unique businesses: 100\n",
      "Unique reviewers: 1061\n",
      "Rating distribution:\n",
      "rating\n",
      "1     80\n",
      "2     72\n",
      "3    170\n",
      "4    311\n",
      "5    454\n",
      "Name: count, dtype: int64\n",
      "\n",
      "Rating category distribution:\n",
      "rating_category\n",
      "taste                 326\n",
      "indoor_atmosphere     287\n",
      "outdoor_atmosphere    280\n",
      "menu                  194\n",
      "Name: count, dtype: int64\n",
      "\n",
      "Average review length: 112.0 characters\n"
     ]
    }
   ],
   "source": [
    "# Generate summary statistics\n",
    "print(\"=== CLEAN DATASET SUMMARY ===\")\n",
    "print(f\"Total reviews: {len(df_final)}\")\n",
    "print(f\"Unique businesses: {df_final['business_name'].nunique()}\")\n",
    "print(f\"Unique reviewers: {df_final['author_name'].nunique()}\")\n",
    "print(f\"Rating distribution:\")\n",
    "print(df_final['rating'].value_counts().sort_index())\n",
    "print(f\"\\nRating category distribution:\")\n",
    "print(df_final['rating_category'].value_counts())\n",
    "print(f\"\\nAverage review length: {df_final['text_length'].mean():.1f} characters\")"
   ]
  },
  {
   "cell_type": "code",
   "execution_count": null,
   "metadata": {},
   "outputs": [
    {
     "data": {
      "image/png": "[encoded data removed]",
      "text/plain": [
       "<Figure size 1500x1000 with 4 Axes>"
      ]
     },
     "metadata": {},
     "output_type": "display_data"
    }
   ],
   "source": [
    "# Create visualizations\n",
    "fig, axes = plt.subplots(2, 2, figsize=(15, 10))\n",
    "\n",
    "# Rating distribution\n",
    "axes[0, 0].bar(df_final['rating'].value_counts().sort_index().index, \n",
    "               df_final['rating'].value_counts().sort_index().values)\n",
    "axes[0, 0].set_title('Rating Distribution')\n",
    "axes[0, 0].set_xlabel('Rating')\n",
    "axes[0, 0].set_ylabel('Count')\n",
    "\n",
    "# Rating category distribution\n",
    "category_counts = df_final['rating_category'].value_counts()\n",
    "axes[0, 1].pie(category_counts.values, labels=category_counts.index, autopct='%1.1f%%')\n",
    "axes[0, 1].set_title('Rating Category Distribution')\n",
    "\n",
    "# Text length distribution\n",
    "axes[1, 0].hist(df_final['text_length'], bins=30, alpha=0.7)\n",
    "axes[1, 0].set_title('Review Length Distribution')\n",
    "axes[1, 0].set_xlabel('Length (characters)')\n",
    "axes[1, 0].set_ylabel('Frequency')\n",
    "\n",
    "# Top businesses by review count\n",
    "top_businesses = df_final['business_name'].value_counts().head(10)\n",
    "axes[1, 1].barh(range(len(top_businesses)), top_businesses.values)\n",
    "axes[1, 1].set_yticks(range(len(top_businesses)))\n",
    "axes[1, 1].set_yticklabels(top_businesses.index, fontsize=8)\n",
    "axes[1, 1].set_title('Top 10 Businesses by Review Count')\n",
    "axes[1, 1].set_xlabel('Number of Reviews')\n",
    "\n",
    "plt.tight_layout()\n",
    "plt.show()"
   ]
  },
  {
   "cell_type": "code",
   "execution_count": null,
   "metadata": {},
   "outputs": [
    {
     "name": "stdout",
     "output_type": "stream",
     "text": [
      "Clean dataset exported to 'reviews_cleaned.csv'\n",
      "\n",
      "DATA QUALITY REPORT\n",
      "original_rows: 1100\n",
      "final_rows: 1087\n",
      "rows_removed: 13\n",
      "removal_percentage: 1.18\n",
      "unique_businesses: 100\n",
      "unique_reviewers: 1061\n",
      "avg_rating: 3.91\n",
      "avg_text_length: 112.04\n"
     ]
    }
   ],
   "source": [
    "# Export clean dataset\n",
    "df_final.to_csv('reviews_cleaned.csv', index=False)\n",
    "print(\"Clean dataset exported to 'reviews_cleaned.csv'\")\n",
    "\n",
    "# Export data quality report\n",
    "quality_report = {\n",
    "    'original_rows': len(df),\n",
    "    'final_rows': len(df_final),\n",
    "    'rows_removed': len(df) - len(df_final),\n",
    "    'removal_percentage': ((len(df) - len(df_final)) / len(df)) * 100,\n",
    "    'unique_businesses': df_final['business_name'].nunique(),\n",
    "    'unique_reviewers': df_final['author_name'].nunique(),\n",
    "    'avg_rating': df_final['rating'].mean(),\n",
    "    'avg_text_length': df_final['text_length'].mean()\n",
    "}\n",
    "\n",
    "print(\"\\nDATA QUALITY REPORT\")\n",
    "for key, value in quality_report.items():\n",
    "    if isinstance(value, float):\n",
    "        print(f\"{key}: {value:.2f}\")\n",
    "    else:\n",
    "        print(f\"{key}: {value}\")"
   ]
  }
 ],
 "metadata": {
  "kernelspec": {
   "display_name": "Python 3",
   "language": "python",
   "name": "python3"
  },
  "language_info": {
   "codemirror_mode": {
    "name": "ipython",
    "version": 3
   },
   "file_extension": ".py",
   "mimetype": "text/x-python",
   "name": "python",
   "nbconvert_exporter": "python",
   "pygments_lexer": "ipython3",
   "version": "3.13.5"
  }
 },
 "nbformat": 4,
 "nbformat_minor": 2
}
